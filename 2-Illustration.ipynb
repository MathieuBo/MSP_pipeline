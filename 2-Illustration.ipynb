{
 "cells": [
  {
   "cell_type": "code",
   "execution_count": 24,
   "id": "5529ac39",
   "metadata": {},
   "outputs": [],
   "source": [
    "import numpy as np\n",
    "import napari\n",
    "\n",
    "import matplotlib.pyplot as plt\n",
    "\n",
    "from skimage.io import imread, imsave\n",
    "from skimage import exposure, restoration\n",
    "\n",
    "from tqdm.notebook import tqdm"
   ]
  },
  {
   "cell_type": "code",
   "execution_count": 25,
   "id": "2dcdbf72",
   "metadata": {},
   "outputs": [],
   "source": [
    "%matplotlib inline"
   ]
  },
  {
   "cell_type": "markdown",
   "id": "ca8f15f1",
   "metadata": {},
   "source": [
    "## Start napari"
   ]
  },
  {
   "cell_type": "code",
   "execution_count": 26,
   "id": "351db32a",
   "metadata": {},
   "outputs": [
    {
     "name": "stderr",
     "output_type": "stream",
     "text": [
      "C:\\Users\\KarenDuffGroup\\AppData\\Roaming\\Python\\Python38\\site-packages\\napari_tools_menu\\__init__.py:165: FutureWarning: Public access to Window.qt_viewer is deprecated and will be removed in\n",
      "v0.5.0. It is considered an \"implementation detail\" of the napari\n",
      "application, not part of the napari viewer model. If your use case\n",
      "requires access to qt_viewer, please open an issue to discuss.\n",
      "  self.tools_menu = ToolsMenu(self, self.qt_viewer.viewer)\n",
      "WARNING: QWindowsWindow::setGeometry: Unable to set geometry 1400x1370+4+20 (frame: 1422x1426-7-25) on QWidgetWindow/\"_QtMainWindowClassWindow\" on \"\\\\.\\DISPLAY1\". Resulting geometry: 2102x2058+7+34 (frame: 2124x2114-4-11) margins: 11, 45, 11, 11 minimum size: 608x585 MINMAXINFO maxSize=0,0 maxpos=0,0 mintrack=1238,1226 maxtrack=0,0)\n"
     ]
    }
   ],
   "source": [
    "viewer = napari.Viewer()"
   ]
  },
  {
   "cell_type": "markdown",
   "id": "d10946ea",
   "metadata": {},
   "source": [
    "## Load image and add channels to Napari"
   ]
  },
  {
   "cell_type": "code",
   "execution_count": 27,
   "id": "c2092b28",
   "metadata": {},
   "outputs": [],
   "source": [
    "# Path on analysis computer\n",
    "im = imread('E:mathieu/220222_full_hipp_IF/full.tif')"
   ]
  },
  {
   "cell_type": "code",
   "execution_count": null,
   "id": "8f697810",
   "metadata": {},
   "outputs": [],
   "source": [
    "# Path on laptop\n",
    "im = imread('../mc1_cp27_p62_hipp_stitched.tif')"
   ]
  },
  {
   "cell_type": "code",
   "execution_count": 28,
   "id": "f01417f0",
   "metadata": {},
   "outputs": [
    {
     "data": {
      "text/plain": [
       "(26, 28, 14452, 10648)"
      ]
     },
     "execution_count": 28,
     "metadata": {},
     "output_type": "execute_result"
    }
   ],
   "source": [
    "im = im[1:, :, :, :]\n",
    "im.shape"
   ]
  },
  {
   "cell_type": "code",
   "execution_count": 55,
   "id": "b29f452d",
   "metadata": {},
   "outputs": [],
   "source": [
    "cropped = im[:, :, ymin:ymax, xmin:xmax]"
   ]
  },
  {
   "cell_type": "code",
   "execution_count": 56,
   "id": "c5ba2773",
   "metadata": {},
   "outputs": [
    {
     "data": {
      "text/plain": [
       "<Image layer 'dapi' at 0x212060244c0>"
      ]
     },
     "execution_count": 56,
     "metadata": {},
     "output_type": "execute_result"
    }
   ],
   "source": [
    "viewer.add_image(cropped[:, 0, :, :], name='dapi', blending='additive', \n",
    "                 colormap='bop blue', scale=[1,1,1])"
   ]
  },
  {
   "cell_type": "code",
   "execution_count": 57,
   "id": "968a8757",
   "metadata": {},
   "outputs": [
    {
     "data": {
      "text/plain": [
       "<Image layer 'p62' at 0x212169455b0>"
      ]
     },
     "execution_count": 57,
     "metadata": {},
     "output_type": "execute_result"
    }
   ],
   "source": [
    "viewer.add_image(cropped[:, 23, :, :], name='mc1', blending='additive', \n",
    "                 colormap='bop orange', scale=[1,1,1])\n",
    "\n",
    "viewer.add_image(cropped[:, 18, :, :], name='anchor', blending='additive', \n",
    "                 colormap='bop purple', scale=[1,1,1])\n",
    "\n",
    "viewer.add_image(cropped[:, 27, :, :], name='p62', blending='additive', \n",
    "                 scale=[1,1,1])"
   ]
  },
  {
   "cell_type": "code",
   "execution_count": null,
   "id": "a000a807",
   "metadata": {},
   "outputs": [],
   "source": []
  },
  {
   "cell_type": "code",
   "execution_count": 51,
   "id": "a9542253",
   "metadata": {},
   "outputs": [
    {
     "data": {
      "text/plain": [
       "<Image layer 'dapi' at 0x2122eaea190>"
      ]
     },
     "execution_count": 51,
     "metadata": {},
     "output_type": "execute_result"
    }
   ],
   "source": [
    "viewer.add_image(im[:, 0, :, :], name='dapi', blending='additive', colormap='bop blue', scale=[1,1,1])"
   ]
  },
  {
   "cell_type": "code",
   "execution_count": 6,
   "id": "8b7314e0",
   "metadata": {},
   "outputs": [
    {
     "data": {
      "text/plain": [
       "<Image layer 'cp27' at 0x2122cba0640>"
      ]
     },
     "execution_count": 6,
     "metadata": {},
     "output_type": "execute_result"
    }
   ],
   "source": [
    "viewer.add_image(im[:, 9, :, :], name='cp27', blending='additive', colormap='bop orange', scale=[1,1,1])"
   ]
  },
  {
   "cell_type": "code",
   "execution_count": 7,
   "id": "14c4d9ef",
   "metadata": {},
   "outputs": [
    {
     "data": {
      "text/plain": [
       "<Image layer 'p62' at 0x2123a40c3a0>"
      ]
     },
     "execution_count": 7,
     "metadata": {},
     "output_type": "execute_result"
    }
   ],
   "source": [
    "viewer.add_image(im[:, 27, :, :], name='p62', blending='additive', scale=[1,1,1])"
   ]
  },
  {
   "cell_type": "code",
   "execution_count": 8,
   "id": "bbf1d853",
   "metadata": {},
   "outputs": [
    {
     "data": {
      "text/plain": [
       "<Image layer 'anchor' at 0x212050e11f0>"
      ]
     },
     "execution_count": 8,
     "metadata": {},
     "output_type": "execute_result"
    }
   ],
   "source": [
    "viewer.add_image(im[:, 18, :, :], name='anchor', blending='additive', scale=[1,1,1])"
   ]
  },
  {
   "cell_type": "code",
   "execution_count": 9,
   "id": "367bea88",
   "metadata": {},
   "outputs": [
    {
     "data": {
      "text/plain": [
       "<Image layer 'mc1' at 0x2121a8ea310>"
      ]
     },
     "execution_count": 9,
     "metadata": {},
     "output_type": "execute_result"
    }
   ],
   "source": [
    "viewer.add_image(im[:, 23, :, :], name='mc1', blending='additive', colormap='bop purple', scale=[1,1,1])"
   ]
  },
  {
   "cell_type": "code",
   "execution_count": 10,
   "id": "a4708bc5",
   "metadata": {},
   "outputs": [
    {
     "data": {
      "text/plain": [
       "<Image layer 'lf' at 0x21227259970>"
      ]
     },
     "execution_count": 10,
     "metadata": {},
     "output_type": "execute_result"
    }
   ],
   "source": [
    "viewer.add_image(im[:, 6, :, :], name='lf', blending='additive', colormap='cyan', scale=[1,1,1])"
   ]
  },
  {
   "cell_type": "code",
   "execution_count": 12,
   "id": "5302e7b3",
   "metadata": {},
   "outputs": [],
   "source": [
    "viewer.screenshot('E:mathieu/220222_full_hipp_IF/dapi_screenshot.png');"
   ]
  },
  {
   "cell_type": "markdown",
   "id": "203b695b",
   "metadata": {},
   "source": [
    "## Load nuclear segmentation"
   ]
  },
  {
   "cell_type": "code",
   "execution_count": null,
   "id": "06fff088",
   "metadata": {},
   "outputs": [],
   "source": [
    "# Reload segmentation\n",
    "dat = np.load('../full_hipp_seg.npy', allow_pickle=True).item()"
   ]
  },
  {
   "cell_type": "code",
   "execution_count": null,
   "id": "4b23215a",
   "metadata": {},
   "outputs": [],
   "source": [
    "viewer.add_labels(dat['masks'])"
   ]
  },
  {
   "cell_type": "markdown",
   "id": "8cffa021",
   "metadata": {},
   "source": [
    "## Improve picture quality"
   ]
  },
  {
   "cell_type": "code",
   "execution_count": null,
   "id": "094d988a",
   "metadata": {},
   "outputs": [],
   "source": [
    "mc1_bckgnd = restoration.rolling_ball(im[:, 9, :, :])"
   ]
  },
  {
   "cell_type": "markdown",
   "id": "ec1edcff",
   "metadata": {},
   "source": [
    "# Illustration"
   ]
  },
  {
   "cell_type": "code",
   "execution_count": 13,
   "id": "23233af6",
   "metadata": {},
   "outputs": [],
   "source": [
    "# Import napari colormaps\n",
    "\n",
    "from matplotlib.colors import ListedColormap\n",
    "\n",
    "bopblue = ListedColormap(napari.utils.colormaps.bop_colors.bop_blue)\n",
    "boporange = ListedColormap(napari.utils.colormaps.bop_colors.bop_orange)\n",
    "boppurple = ListedColormap(napari.utils.colormaps.bop_colors.bop_purple)\n",
    "#cyan = napari.utils.colormaps.SIMPLE_COLORMAPS['cyan']"
   ]
  },
  {
   "cell_type": "code",
   "execution_count": 14,
   "id": "0097e396",
   "metadata": {},
   "outputs": [],
   "source": [
    "def plot_style(figsize=(6, 12), labelsize=12, titlesize=24, ticklabelsize=12, **kwargs):\n",
    "    basic_style = {\n",
    "       'figure.figsize': figsize,\n",
    "       'axes.labelsize': labelsize,\n",
    "       'axes.titlesize': titlesize,\n",
    "       'xtick.bottom' : False,\n",
    "        'xtick.labelbottom': False,\n",
    "       'ytick.left' : False,\n",
    "        'ytick.labelleft' : False,\n",
    "       #'xtick.labelsize': ticklabelsize,\n",
    "       #'ytick.labelsize': ticklabelsize,\n",
    "       'axes.spines.top': False,\n",
    "       'axes.spines.bottom': False,\n",
    "       'axes.spines.right': False,\n",
    "       'axes.spines.left': False,\n",
    "       'axes.grid': False,\n",
    "       \n",
    "       #Distance between plots\n",
    "       'figure.subplot.bottom': 0.1,\n",
    "       'figure.subplot.hspace': 0.05,\n",
    "       'figure.subplot.left': 0.1,\n",
    "       'figure.subplot.right': 0.9,\n",
    "       'figure.subplot.top': 0.9,\n",
    "       'figure.subplot.wspace': 0.05,    \n",
    "       \n",
    "   }\n",
    "    basic_style.update(kwargs)\n",
    "    return plt.rc_context(rc=basic_style)\n",
    "\n",
    "# If looking for more parameters check in plt.rcParams.keys()"
   ]
  },
  {
   "cell_type": "code",
   "execution_count": 52,
   "id": "07b03322",
   "metadata": {},
   "outputs": [
    {
     "name": "stderr",
     "output_type": "stream",
     "text": [
      "C:\\Users\\KarenDuffGroup\\AppData\\Roaming\\Python\\Python38\\site-packages\\numpy\\core\\numeric.py:2446: FutureWarning: elementwise comparison failed; returning scalar instead, but in the future will perform elementwise comparison\n",
      "  return bool(asarray(a1 == a2).all())\n"
     ]
    },
    {
     "data": {
      "text/plain": [
       "<Shapes layer 'ROI' at 0x2121b365d90>"
      ]
     },
     "execution_count": 52,
     "metadata": {},
     "output_type": "execute_result"
    }
   ],
   "source": [
    "#Create layer to select ROI\n",
    "viewer.add_shapes(name='ROI', face_color='r')"
   ]
  },
  {
   "cell_type": "code",
   "execution_count": 53,
   "id": "9f3123b5",
   "metadata": {},
   "outputs": [],
   "source": [
    "# Crop image using rectangle ROI\n",
    "roi_coords = viewer.layers['ROI'].data[0]"
   ]
  },
  {
   "cell_type": "code",
   "execution_count": 54,
   "id": "4f38da87",
   "metadata": {},
   "outputs": [],
   "source": [
    "ymax, xmax = int(roi_coords.max(axis=0)[0]), int(roi_coords.max(axis=0)[1])\n",
    "ymin, xmin = int(roi_coords.min(axis=0)[0]), int(roi_coords.min(axis=0)[1])"
   ]
  },
  {
   "cell_type": "code",
   "execution_count": 35,
   "id": "04d53ca9",
   "metadata": {},
   "outputs": [],
   "source": [
    "cropped = im[14, :, ymin:ymax, xmin:xmax]"
   ]
  },
  {
   "cell_type": "code",
   "execution_count": 23,
   "id": "cfc3f004",
   "metadata": {
    "scrolled": false
   },
   "outputs": [],
   "source": [
    "with plot_style(figsize=(10,9)):\n",
    "\n",
    "    plt.subplot(321)\n",
    "\n",
    "    dapi = np.swapaxes(cropped[0, :, :], 0, 1)\n",
    "    dapi_pct = np.percentile(dapi, (10, 99.5))\n",
    "    plt.imshow(exposure.rescale_intensity(dapi, in_range=tuple(dapi_pct)), cmap=bopblue)\n",
    "    plt.text(x=50, y=120, s=\"DAPI (405)\", fontdict={'font': 'Verdana', 'size': 20, 'color': 'w'})\n",
    "\n",
    "    plt.subplot(322)\n",
    "    cp27 = np.swapaxes(cropped[9, :, :], 0, 1)\n",
    "    cp27_pct = np.percentile(cp27, (10, 99.5))\n",
    "    plt.imshow(exposure.rescale_intensity(cp27, in_range=tuple(cp27_pct)), cmap=boporange)\n",
    "    plt.text(x=50, y=120, s=\"CP27 (488)\", fontdict={'font': 'Verdana', 'size': 20, 'color': 'w'})\n",
    "    \n",
    "    plt.subplot(323)\n",
    "    anchor = np.swapaxes(cropped[18, :, :], 0, 1)\n",
    "    anchor_pct = np.percentile(anchor, (10, 99.5))\n",
    "    plt.imshow(exposure.rescale_intensity(anchor, in_range=tuple(anchor_pct)), cmap=boppurple)\n",
    "    plt.text(x=50, y=120, s=\"Anchor (555)\", fontdict={'font': 'Verdana', 'size': 20, 'color': 'w'})\n",
    "\n",
    "    plt.subplot(324)\n",
    "    mc1 = np.swapaxes(cropped[23, :, :], 0, 1)\n",
    "    mc1_pct = np.percentile(mc1, (10, 99.5))\n",
    "    plt.imshow(exposure.rescale_intensity(mc1, in_range=tuple(mc1_pct)), cmap='Greys_r')\n",
    "    plt.text(x=50, y=120, s=\"MC1 (640)\", fontdict={'font': 'Verdana', 'size': 20, 'color': 'w'})\n",
    "\n",
    "    plt.subplot(325)\n",
    "    p62 = np.swapaxes(cropped[27, :, :], 0, 1)\n",
    "    p62_pct = np.percentile(p62, (20, 99.5))\n",
    "    plt.imshow(exposure.rescale_intensity(p62, in_range=tuple(p62_pct)), cmap='Greys_r')\n",
    "    plt.text(x=50, y=120, s=\"p62(750)\", fontdict={'font': 'Verdana', 'size': 20, 'color': 'w'})\n",
    "    \n",
    "    plt.subplot(326)\n",
    "    lf = np.swapaxes(cropped[6, :, :], 0, 1)\n",
    "    lf_pct = np.percentile(lf, (20, 99.5))\n",
    "    plt.imshow(exposure.rescale_intensity(lf, in_range=tuple(lf_pct)), cmap='Greys_r')\n",
    "    plt.text(x=50, y=120, s=\"LF\", fontdict={'font': 'Verdana', 'size': 20, 'color': 'w'})\n",
    "\n",
    "plt.tight_layout()\n",
    "plt.savefig('E:mathieu/220222_full_hipp_IF/6color.png', dpi=300)\n",
    "\n",
    "plt.show()"
   ]
  },
  {
   "cell_type": "markdown",
   "id": "4fd0e2cb",
   "metadata": {},
   "source": [
    "## Antibody diffusion along Z"
   ]
  },
  {
   "cell_type": "code",
   "execution_count": null,
   "id": "0d733538",
   "metadata": {},
   "outputs": [],
   "source": [
    "yz = im[:, :, ymin:ymax, xmin:xmax].sum(axis=3)"
   ]
  },
  {
   "cell_type": "code",
   "execution_count": null,
   "id": "35d965bd",
   "metadata": {},
   "outputs": [],
   "source": [
    "# Swap axis between color channel (1), and zplanes (0) to avoid change the plot code below \n",
    "yz = np.moveaxis(yz, [0, 1], [1, 0])"
   ]
  },
  {
   "cell_type": "code",
   "execution_count": null,
   "id": "1489cc4b",
   "metadata": {},
   "outputs": [],
   "source": [
    "with plot_style(figsize=(15,5)):\n",
    "    \n",
    "    # Position fo the dye legend\n",
    "    leg_x, leg_y = 5, 12\n",
    "    \n",
    "    plt.subplot(511)\n",
    "\n",
    "    dapi = yz[0, :, :]\n",
    "    dapi_pct = np.percentile(dapi, (10, 99.5))\n",
    "    plt.imshow(exposure.rescale_intensity(dapi, in_range=tuple(dapi_pct)), extent=[0, 592, 0, 20], aspect='auto')\n",
    "    plt.text(x=leg_x, y=leg_y, s=\"DAPI (405)\", fontdict={'font': 'Verdana', 'size': 20, 'color': 'w'})\n",
    "\n",
    "    plt.subplot(512)\n",
    "    mc1 = yz[9, :, :]\n",
    "    mc1_pct = np.percentile(dapi, (10, 99.5))\n",
    "    plt.imshow(exposure.rescale_intensity(mc1, in_range=tuple(mc1_pct)), \n",
    "               extent=[0, 592, 0, 20], aspect='auto')\n",
    "    plt.text(x=leg_x, y=leg_y, s=\"MC1 (488)\", fontdict={'font': 'Verdana', 'size': 20, 'color': 'w'})\n",
    "    \n",
    "    plt.subplot(513)\n",
    "    cp27 = yz[19, :, :]\n",
    "    cp27_pct = np.percentile(cp27, (10, 99.5))\n",
    "    plt.imshow(exposure.rescale_intensity(cp27, in_range=tuple(cp27_pct)), extent=[0, 592, 0, 20], aspect='auto')\n",
    "    plt.text(x=leg_x, y=leg_y, s=\"CP27 (640)\", fontdict={'font': 'Verdana', 'size': 20, 'color': 'w'})\n",
    "\n",
    "    plt.subplot(514)\n",
    "    p62 = yz[14, :, :]\n",
    "    p62_pct = np.percentile(p62, (10, 99.5))\n",
    "    plt.imshow(exposure.rescale_intensity(p62, in_range=tuple(p62_pct)), extent=[0, 592, 0, 20], aspect='auto')\n",
    "    plt.text(x=leg_x, y=leg_y, s=\"p62 (555)\", fontdict={'font': 'Verdana', 'size': 20, 'color': 'w'})\n",
    "\n",
    "    plt.subplot(515)\n",
    "    lf = yz[6, :, :]\n",
    "    lf_pct = np.percentile(lf, (20, 99.5))\n",
    "    plt.imshow(exposure.rescale_intensity(lf, in_range=tuple(lf_pct)), extent=[0, 592, 0, 20], aspect='auto')\n",
    "    plt.text(x=leg_x, y=leg_y, s=\"LF\", fontdict={'font': 'Verdana', 'size': 20, 'color': 'w'})\n",
    "\n",
    "\n",
    "plt.savefig('xz_plots.pdf', dpi=300)\n",
    "\n",
    "plt.show()"
   ]
  },
  {
   "cell_type": "code",
   "execution_count": null,
   "id": "5c6a6897",
   "metadata": {},
   "outputs": [],
   "source": []
  }
 ],
 "metadata": {
  "kernelspec": {
   "display_name": "cellpose",
   "language": "python",
   "name": "cellpose"
  },
  "language_info": {
   "codemirror_mode": {
    "name": "ipython",
    "version": 3
   },
   "file_extension": ".py",
   "mimetype": "text/x-python",
   "name": "python",
   "nbconvert_exporter": "python",
   "pygments_lexer": "ipython3",
   "version": "3.8.13"
  }
 },
 "nbformat": 4,
 "nbformat_minor": 5
}
